{
 "cells": [
  {
   "cell_type": "code",
   "execution_count": 11,
   "metadata": {},
   "outputs": [
    {
     "name": "stderr",
     "output_type": "stream",
     "text": [
      "d:\\anaconda\\envs\\pytorch\\lib\\site-packages\\tqdm\\auto.py:22: TqdmWarning: IProgress not found. Please update jupyter and ipywidgets. See https://ipywidgets.readthedocs.io/en/stable/user_install.html\n",
      "  from .autonotebook import tqdm as notebook_tqdm\n"
     ]
    }
   ],
   "source": [
    "import torch\n",
    "import numpy as np\n",
    "import matplotlib.pyplot as plt"
   ]
  },
  {
   "cell_type": "markdown",
   "metadata": {},
   "source": [
    "# numpy基础\n",
    "数据处理库。核心是多维数组NDarray\n",
    "底层使用C实现，效率高。\n",
    "\n",
    "## NDArray\n",
    "numpy中最重要的类。多维数据包装器\n",
    "\n",
    "多维数组的创建、修改以及多维数组的属性\n",
    "\n",
    "### 创建\n",
    "从数组创建或使用内置函数"
   ]
  },
  {
   "cell_type": "code",
   "execution_count": 27,
   "metadata": {},
   "outputs": [
    {
     "name": "stdout",
     "output_type": "stream",
     "text": [
      "[1 2 3 4 5] <class 'numpy.ndarray'>\n",
      "[[[0. 0. 0.]\n",
      "  [0. 0. 0.]]\n",
      "\n",
      " [[0. 0. 0.]\n",
      "  [0. 0. 0.]]]\n",
      "[[1. 1.]\n",
      " [1. 1.]]\n"
     ]
    }
   ],
   "source": [
    "arr1 = np.array([1, 2, 3, 4, 5])\n",
    "arr2 = np.zeros([2, 2, 3], dtype = np.float32)\n",
    "arr3 = np.ones([2, 2])\n",
    "print(arr1, type(arr1))\n",
    "print(arr2)\n",
    "print(arr3)"
   ]
  },
  {
   "cell_type": "markdown",
   "metadata": {},
   "source": [
    "### 修改\n",
    "主要包括维度变换和拼接"
   ]
  },
  {
   "cell_type": "code",
   "execution_count": 50,
   "metadata": {},
   "outputs": [
    {
     "name": "stdout",
     "output_type": "stream",
     "text": [
      "concatenate: [[[0 0 0 0]]\n",
      "\n",
      " [[1 1 1 1]]\n",
      "\n",
      " [[1 1 1 1]]\n",
      "\n",
      " [[1 1 1 1]]\n",
      "\n",
      " [[1 1 1 1]]\n",
      "\n",
      " [[1 1 1 1]]]\n",
      "expand1: [[[[0]\n",
      "   [0]\n",
      "   [0]\n",
      "   [0]]]]\n",
      "expand2 [[[[1 1 1 1]]]\n",
      "\n",
      "\n",
      " [[[1 1 1 1]]]\n",
      "\n",
      "\n",
      " [[[1 1 1 1]]]\n",
      "\n",
      "\n",
      " [[[1 1 1 1]]]\n",
      "\n",
      "\n",
      " [[[1 1 1 1]]]]\n"
     ]
    }
   ],
   "source": [
    "arr1 = np.zeros([1, 1, 4],  dtype=np.int32)\n",
    "arr2 = np.ones([5, 1, 4], dtype=np.int32)\n",
    "arr = np.concatenate([arr1, arr2], axis=0)\n",
    "print('concatenate:', arr)\n",
    "\n",
    "print('expand1:', np.expand_dims(arr1, 3))\n",
    "print('expand2', arr2[ :, :, np.newaxis, :])"
   ]
  },
  {
   "cell_type": "markdown",
   "metadata": {},
   "source": [
    "### 获取数组属性"
   ]
  },
  {
   "cell_type": "code",
   "execution_count": 43,
   "metadata": {},
   "outputs": [
    {
     "name": "stdout",
     "output_type": "stream",
     "text": [
      "size: 12\n",
      "shape: (2, 6)\n"
     ]
    }
   ],
   "source": [
    "arr = np.array([[1, 1, 4, 5, 1, 4], [1, 9, 1, 9, 8, 10]])\n",
    "print('size:', arr.size)\n",
    "print('shape:', arr.shape)"
   ]
  },
  {
   "cell_type": "markdown",
   "metadata": {},
   "source": [
    "### 切片和筛选\n",
    "切片和python list一致\n",
    "\n"
   ]
  },
  {
   "cell_type": "code",
   "execution_count": 52,
   "metadata": {},
   "outputs": [
    {
     "name": "stdout",
     "output_type": "stream",
     "text": [
      "single choose\n",
      "[4 1 9 1 9]\n",
      "4\n",
      "[9 5]\n",
      "slice\n",
      "[[1 1 4]\n",
      " [4 1 9]]\n",
      "filter\n",
      "[[False False False False False]\n",
      " [False False  True False  True]\n",
      " [ True False False False False]\n",
      " [False False False False False]\n",
      " [ True False  True  True  True]]\n",
      "[ 9  9  8  9  9  8 10]\n"
     ]
    }
   ],
   "source": [
    "arr = np.array([[1, 1, 4, 5, 1], \n",
    "                [4, 1, 9, 1, 9],\n",
    "                [8, 1, 0, 1, 1], \n",
    "                [4, 5, 1, 4, 1], \n",
    "                [9, 1, 9, 8, 10]])\n",
    "\n",
    "print('single choose')\n",
    "print(arr[1])\n",
    "print(arr[1, 0])\n",
    "print(arr[[1, 0], [2, 3]])\n",
    "\n",
    "print('slice')\n",
    "print(arr[:2, :3])\n",
    "\n",
    "print('filter')\n",
    "print(arr>5)\n",
    "print(arr[arr>7])\n",
    "\n"
   ]
  },
  {
   "cell_type": "markdown",
   "metadata": {},
   "source": [
    "### np.where\n",
    "按条件选择、替换数据"
   ]
  },
  {
   "cell_type": "code",
   "execution_count": 53,
   "metadata": {},
   "outputs": [
    {
     "name": "stdout",
     "output_type": "stream",
     "text": [
      "[[ 1  1  4  5  1]\n",
      " [ 4  1 -1  1 -1]\n",
      " [-1  1  0  1  1]\n",
      " [ 4  5  1  4  1]\n",
      " [-1  1 -1 -1 -1]]\n",
      "[[ 2  2  2  2  2]\n",
      " [ 2  2 -1  2 -1]\n",
      " [-1  2  2  2  2]\n",
      " [ 2  2  2  2  2]\n",
      " [-1  2 -1 -1 -1]]\n",
      "[[-1 -1 -4 -5 -1]\n",
      " [-4 -1  9 -1  9]\n",
      " [ 8 -1  0 -1 -1]\n",
      " [-4 -5 -1 -4 -1]\n",
      " [ 9 -1  9  8 10]]\n"
     ]
    }
   ],
   "source": [
    "condition = arr>5\n",
    "print(np.where(condition, -1, arr))\n",
    "print(np.where(condition, -1, 2))\n",
    "rra = -arr\n",
    "print(np.where(condition, arr, rra))"
   ]
  },
  {
   "cell_type": "markdown",
   "metadata": {},
   "source": []
  }
 ],
 "metadata": {
  "kernelspec": {
   "display_name": "pytorch",
   "language": "python",
   "name": "python3"
  },
  "language_info": {
   "codemirror_mode": {
    "name": "ipython",
    "version": 3
   },
   "file_extension": ".py",
   "mimetype": "text/x-python",
   "name": "python",
   "nbconvert_exporter": "python",
   "pygments_lexer": "ipython3",
   "version": "3.10.4"
  }
 },
 "nbformat": 4,
 "nbformat_minor": 2
}
